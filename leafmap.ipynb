{
 "cells": [
  {
   "cell_type": "code",
   "execution_count": null,
   "id": "48e1098a-b1fd-4396-a5cf-beb9f217dd45",
   "metadata": {},
   "outputs": [],
   "source": [
    "!pip3 install geopandas\n",
    "!pip3 install leafmap\n",
    "!pip3 install awswrangler"
   ]
  },
  {
   "cell_type": "code",
   "execution_count": null,
   "id": "4166cbb5-5e41-47a6-8093-656d7b186d5c",
   "metadata": {},
   "outputs": [],
   "source": [
    "import leafmap.leafmap as leafmap\n",
    "import geopandas as gpd\n",
    "import awswrangler as wr"
   ]
  },
  {
   "cell_type": "code",
   "execution_count": null,
   "id": "81b53311-41cb-4914-bb18-41b3098c58df",
   "metadata": {},
   "outputs": [],
   "source": [
    "# Athenaによるクエリの実行。\n",
    "# 実行結果をDataFrameで得ることができる。\n",
    "# LIMITは適宜。全部を地図上で可視化すると時間がかかる\n",
    "df = wr.athena.read_sql_query(\n",
    "    \"\"\"\n",
    "    SELECT\n",
    "        id,\n",
    "        lat,\n",
    "        lon,\n",
    "        tags['name'] as name,\n",
    "        tags['brand'] as brand\n",
    "    FROM\n",
    "        osm_node_jp\n",
    "    WHERE\n",
    "        tags['shop'] = 'convenience'\n",
    "    LIMIT 1000\n",
    "    \"\"\",\n",
    "    database='default'\n",
    ")"
   ]
  },
  {
   "cell_type": "code",
   "execution_count": null,
   "id": "13b71167-5dec-4195-8410-9daad3608bf8",
   "metadata": {},
   "outputs": [],
   "source": [
    "# Noneは表示できないので、空文字列で埋めておく\n",
    "df['name'] = df['name'].fillna('')\n",
    "df['brand'] = df['brand'].fillna('')\n",
    "df"
   ]
  },
  {
   "cell_type": "code",
   "execution_count": null,
   "id": "3ee8487c-8020-4358-ba98-2df7b6438014",
   "metadata": {},
   "outputs": [],
   "source": [
    "# 地図上に表示する\n",
    "m = leafmap.Map()\n",
    "m.add_points_from_xy(\n",
    "    df, x='lon', y='lat', popup=[\"name\", \"brand\"], layer_name='コンビニ')\n",
    "m"
   ]
  }
 ],
 "metadata": {
  "kernelspec": {
   "display_name": "Python 3.10.0 64-bit",
   "language": "python",
   "name": "python3"
  },
  "language_info": {
   "codemirror_mode": {
    "name": "ipython",
    "version": 3
   },
   "file_extension": ".py",
   "mimetype": "text/x-python",
   "name": "python",
   "nbconvert_exporter": "python",
   "pygments_lexer": "ipython3",
   "version": "3.10.0"
  },
  "vscode": {
   "interpreter": {
    "hash": "369f2c481f4da34e4445cda3fffd2e751bd1c4d706f27375911949ba6bb62e1c"
   }
  }
 },
 "nbformat": 4,
 "nbformat_minor": 5
}
